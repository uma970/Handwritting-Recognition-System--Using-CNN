{
  "cells": [
    {
      "cell_type": "code",
      "execution_count": null,
      "metadata": {
        "execution": {
          "iopub.execute_input": "2023-12-19T16:04:57.858377Z",
          "iopub.status.busy": "2023-12-19T16:04:57.857738Z",
          "iopub.status.idle": "2023-12-19T16:05:08.406810Z",
          "shell.execute_reply": "2023-12-19T16:05:08.406044Z",
          "shell.execute_reply.started": "2023-12-14T05:23:11.682885Z"
        },
        "papermill": {
          "duration": 10.577853,
          "end_time": "2023-12-19T16:05:08.406951",
          "exception": false,
          "start_time": "2023-12-19T16:04:57.829098",
          "status": "completed"
        },
        "tags": [],
        "colab": {
          "base_uri": "https://localhost:8080/"
        },
        "id": "wC1mzIUNnBdH",
        "outputId": "1cd1788e-934f-4cb4-8a24-c16dce0b00d1"
      },
      "outputs": [
        {
          "output_type": "stream",
          "name": "stdout",
          "text": [
            "Requirement already satisfied: imutils in /usr/local/lib/python3.10/dist-packages (0.5.4)\n"
          ]
        }
      ],
      "source": [
        "!pip install imutils"
      ]
    },
    {
      "cell_type": "code",
      "execution_count": null,
      "metadata": {
        "_cell_guid": "79c7e3d0-c299-4dcb-8224-4455121ee9b0",
        "_uuid": "d629ff2d2480ee46fbb7e2d37f6b5fab8052498a",
        "execution": {
          "iopub.execute_input": "2023-12-19T16:05:08.469967Z",
          "iopub.status.busy": "2023-12-19T16:05:08.468971Z",
          "iopub.status.idle": "2023-12-19T16:05:14.221499Z",
          "shell.execute_reply": "2023-12-19T16:05:14.220920Z",
          "shell.execute_reply.started": "2023-12-14T05:23:22.263157Z"
        },
        "papermill": {
          "duration": 5.787284,
          "end_time": "2023-12-19T16:05:14.221621",
          "exception": false,
          "start_time": "2023-12-19T16:05:08.434337",
          "status": "completed"
        },
        "tags": [],
        "id": "mHP6taCinBdc"
      },
      "outputs": [],
      "source": [
        "import numpy as np\n",
        "import pandas as pd\n",
        "from keras.preprocessing.image import ImageDataGenerator\n",
        "import os\n",
        "import random\n",
        "import cv2\n",
        "import imutils\n",
        "import random\n",
        "import matplotlib.pyplot as plt\n",
        "import seaborn as sns\n",
        "from sklearn.preprocessing import LabelBinarizer\n",
        "from keras.models import Sequential\n",
        "from keras import optimizers\n",
        "from sklearn.preprocessing import LabelBinarizer\n",
        "from keras import backend as K\n",
        "from keras.layers import Dense, Activation, Flatten, Dense,MaxPooling2D, Dropout\n",
        "from keras.layers import Conv2D, MaxPooling2D, BatchNormalization"
      ]
    },
    {
      "cell_type": "code",
      "source": [
        "!pip install np_utils"
      ],
      "metadata": {
        "colab": {
          "base_uri": "https://localhost:8080/"
        },
        "id": "mU3DXX9lqx4r",
        "outputId": "61551ca8-da88-4af8-e467-7715c3e8c265"
      },
      "execution_count": null,
      "outputs": [
        {
          "output_type": "stream",
          "name": "stdout",
          "text": [
            "Collecting np_utils\n",
            "  Downloading np_utils-0.6.0.tar.gz (61 kB)\n",
            "\u001b[2K     \u001b[90m━━━━━━━━━━━━━━━━━━━━━━━━━━━━━━━━━━━━━━━━\u001b[0m \u001b[32m62.0/62.0 kB\u001b[0m \u001b[31m835.2 kB/s\u001b[0m eta \u001b[36m0:00:00\u001b[0m\n",
            "\u001b[?25h  Preparing metadata (setup.py) ... \u001b[?25l\u001b[?25hdone\n",
            "Requirement already satisfied: numpy>=1.0 in /usr/local/lib/python3.10/dist-packages (from np_utils) (1.23.5)\n",
            "Building wheels for collected packages: np_utils\n",
            "  Building wheel for np_utils (setup.py) ... \u001b[?25l\u001b[?25hdone\n",
            "  Created wheel for np_utils: filename=np_utils-0.6.0-py3-none-any.whl size=56439 sha256=0f7835e8dbd998169b86909b82ac547e58d9badb329009b4211048ca1f297f0a\n",
            "  Stored in directory: /root/.cache/pip/wheels/b6/c7/50/2307607f44366dd021209f660045f8d51cb976514d30be7cc7\n",
            "Successfully built np_utils\n",
            "Installing collected packages: np_utils\n",
            "Successfully installed np_utils-0.6.0\n"
          ]
        }
      ]
    },
    {
      "cell_type": "code",
      "source": [
        "test = ('/content/written_name_test_v2.csv')\n",
        "train = ('/content/written_name_train_v2.csv')\n",
        "validate = ('/content/written_name_validation_v2.csv')"
      ],
      "metadata": {
        "id": "xn8Exuz-rCeF"
      },
      "execution_count": null,
      "outputs": []
    },
    {
      "cell_type": "code",
      "execution_count": null,
      "metadata": {
        "execution": {
          "iopub.execute_input": "2023-12-19T16:05:14.282432Z",
          "iopub.status.busy": "2023-12-19T16:05:14.281802Z",
          "iopub.status.idle": "2023-12-19T16:24:19.384648Z",
          "shell.execute_reply": "2023-12-19T16:24:19.384034Z",
          "shell.execute_reply.started": "2023-12-14T05:23:27.725526Z"
        },
        "papermill": {
          "duration": 1145.136454,
          "end_time": "2023-12-19T16:24:19.384804",
          "exception": false,
          "start_time": "2023-12-19T16:05:14.248350",
          "status": "completed"
        },
        "tags": [],
        "id": "xtV_SjQJnBdh"
      },
      "outputs": [],
      "source": [
        "dir = \"../input/handwritten-characters/Train/\"\n",
        "train_data = []\n",
        "img_size = 32\n",
        "non_chars = [\"#\",\"$\",\"&\",\"@\"]\n",
        "for i in os.listdir(dir):\n",
        "    if i in non_chars:\n",
        "        continue\n",
        "    count = 0\n",
        "    sub_directory = os.path.join(dir,i)\n",
        "    for j in os.listdir(sub_directory):\n",
        "        count+=1\n",
        "        if count > 4000:\n",
        "            break\n",
        "        img = cv2.imread(os.path.join(sub_directory,j),0)\n",
        "        img = cv2.resize(img,(img_size,img_size))\n",
        "        train_data.append([img,i])"
      ]
    },
    {
      "cell_type": "code",
      "execution_count": null,
      "metadata": {
        "execution": {
          "iopub.execute_input": "2023-12-19T16:24:19.444784Z",
          "iopub.status.busy": "2023-12-19T16:24:19.443975Z",
          "iopub.status.idle": "2023-12-19T16:24:19.447984Z",
          "shell.execute_reply": "2023-12-19T16:24:19.447383Z",
          "shell.execute_reply.started": "2023-12-14T05:39:10.611791Z"
        },
        "papermill": {
          "duration": 0.035383,
          "end_time": "2023-12-19T16:24:19.448086",
          "exception": false,
          "start_time": "2023-12-19T16:24:19.412703",
          "status": "completed"
        },
        "tags": [],
        "id": "WfABH3J9nBdj",
        "outputId": "476ebb5e-0fab-44c0-8ab7-1297a0db5ad1"
      },
      "outputs": [
        {
          "data": {
            "text/plain": [
              "140000"
            ]
          },
          "execution_count": 4,
          "metadata": {},
          "output_type": "execute_result"
        }
      ],
      "source": [
        "len(train_data)"
      ]
    },
    {
      "cell_type": "code",
      "execution_count": null,
      "metadata": {
        "execution": {
          "iopub.execute_input": "2023-12-19T16:24:19.509270Z",
          "iopub.status.busy": "2023-12-19T16:24:19.508672Z",
          "iopub.status.idle": "2023-12-19T16:26:04.872144Z",
          "shell.execute_reply": "2023-12-19T16:26:04.872701Z",
          "shell.execute_reply.started": "2023-12-14T05:39:10.622453Z"
        },
        "papermill": {
          "duration": 105.397467,
          "end_time": "2023-12-19T16:26:04.872866",
          "exception": false,
          "start_time": "2023-12-19T16:24:19.475399",
          "status": "completed"
        },
        "tags": [],
        "id": "jHIlEETqnBdl"
      },
      "outputs": [],
      "source": [
        "val_dir = \"../input/handwritten-characters/Validation/\"\n",
        "val_data = []\n",
        "img_size = 32\n",
        "for i in os.listdir(val_dir):\n",
        "    if i in non_chars:\n",
        "        continue\n",
        "    count = 0\n",
        "    sub_directory = os.path.join(val_dir,i)\n",
        "    for j in os.listdir(sub_directory):\n",
        "        count+=1\n",
        "        if count > 1000:\n",
        "            break\n",
        "        img = cv2.imread(os.path.join(sub_directory,j),0)\n",
        "        img = cv2.resize(img,(img_size,img_size))\n",
        "        val_data.append([img,i])"
      ]
    },
    {
      "cell_type": "code",
      "execution_count": null,
      "metadata": {
        "execution": {
          "iopub.execute_input": "2023-12-19T16:26:04.931195Z",
          "iopub.status.busy": "2023-12-19T16:26:04.930481Z",
          "iopub.status.idle": "2023-12-19T16:26:04.934095Z",
          "shell.execute_reply": "2023-12-19T16:26:04.933478Z",
          "shell.execute_reply.started": "2023-12-14T05:40:28.498789Z"
        },
        "papermill": {
          "duration": 0.033859,
          "end_time": "2023-12-19T16:26:04.934207",
          "exception": false,
          "start_time": "2023-12-19T16:26:04.900348",
          "status": "completed"
        },
        "tags": [],
        "id": "ntb05s9TnBdn",
        "outputId": "a374cf97-6b50-469b-e82f-28c79f69a89b"
      },
      "outputs": [
        {
          "data": {
            "text/plain": [
              "15209"
            ]
          },
          "execution_count": 6,
          "metadata": {},
          "output_type": "execute_result"
        }
      ],
      "source": [
        "len(val_data)"
      ]
    },
    {
      "cell_type": "code",
      "execution_count": null,
      "metadata": {
        "execution": {
          "iopub.execute_input": "2023-12-19T16:26:05.036191Z",
          "iopub.status.busy": "2023-12-19T16:26:05.015601Z",
          "iopub.status.idle": "2023-12-19T16:26:05.186256Z",
          "shell.execute_reply": "2023-12-19T16:26:05.185585Z",
          "shell.execute_reply.started": "2023-12-14T05:40:28.505460Z"
        },
        "papermill": {
          "duration": 0.225502,
          "end_time": "2023-12-19T16:26:05.186370",
          "exception": false,
          "start_time": "2023-12-19T16:26:04.960868",
          "status": "completed"
        },
        "tags": [],
        "id": "ec1K5d4jnBdq"
      },
      "outputs": [],
      "source": [
        "random.shuffle(train_data)\n",
        "random.shuffle(val_data)"
      ]
    },
    {
      "cell_type": "code",
      "execution_count": null,
      "metadata": {
        "execution": {
          "iopub.execute_input": "2023-12-19T16:26:05.304316Z",
          "iopub.status.busy": "2023-12-19T16:26:05.278693Z",
          "iopub.status.idle": "2023-12-19T16:26:05.321436Z",
          "shell.execute_reply": "2023-12-19T16:26:05.320783Z",
          "shell.execute_reply.started": "2023-12-14T05:40:28.733744Z"
        },
        "papermill": {
          "duration": 0.108049,
          "end_time": "2023-12-19T16:26:05.321546",
          "exception": false,
          "start_time": "2023-12-19T16:26:05.213497",
          "status": "completed"
        },
        "tags": [],
        "id": "_1i22vpSnBdu"
      },
      "outputs": [],
      "source": [
        "train_X = []\n",
        "train_Y = []\n",
        "for features,label in train_data:\n",
        "    train_X.append(features)\n",
        "    train_Y.append(label)"
      ]
    },
    {
      "cell_type": "code",
      "execution_count": null,
      "metadata": {
        "execution": {
          "iopub.execute_input": "2023-12-19T16:26:05.388115Z",
          "iopub.status.busy": "2023-12-19T16:26:05.387509Z",
          "iopub.status.idle": "2023-12-19T16:26:05.390424Z",
          "shell.execute_reply": "2023-12-19T16:26:05.389932Z",
          "shell.execute_reply.started": "2023-12-14T05:40:28.812532Z"
        },
        "papermill": {
          "duration": 0.041965,
          "end_time": "2023-12-19T16:26:05.390535",
          "exception": false,
          "start_time": "2023-12-19T16:26:05.348570",
          "status": "completed"
        },
        "tags": [],
        "id": "fxqZ-Lr5nBdy"
      },
      "outputs": [],
      "source": [
        "val_X = []\n",
        "val_Y = []\n",
        "for features,label in val_data:\n",
        "    val_X.append(features)\n",
        "    val_Y.append(label)"
      ]
    },
    {
      "cell_type": "code",
      "execution_count": null,
      "metadata": {
        "execution": {
          "iopub.execute_input": "2023-12-19T16:26:05.495428Z",
          "iopub.status.busy": "2023-12-19T16:26:05.464415Z",
          "iopub.status.idle": "2023-12-19T16:26:05.811902Z",
          "shell.execute_reply": "2023-12-19T16:26:05.812555Z",
          "shell.execute_reply.started": "2023-12-14T05:40:28.825824Z"
        },
        "papermill": {
          "duration": 0.395369,
          "end_time": "2023-12-19T16:26:05.812726",
          "exception": false,
          "start_time": "2023-12-19T16:26:05.417357",
          "status": "completed"
        },
        "tags": [],
        "id": "OOxej-hynBd4"
      },
      "outputs": [],
      "source": [
        "LB = LabelBinarizer()\n",
        "train_Y = LB.fit_transform(train_Y)\n",
        "val_Y = LB.fit_transform(val_Y)"
      ]
    },
    {
      "cell_type": "code",
      "execution_count": null,
      "metadata": {
        "execution": {
          "iopub.execute_input": "2023-12-19T16:26:05.908982Z",
          "iopub.status.busy": "2023-12-19T16:26:05.908340Z",
          "iopub.status.idle": "2023-12-19T16:26:06.438329Z",
          "shell.execute_reply": "2023-12-19T16:26:06.437631Z",
          "shell.execute_reply.started": "2023-12-14T05:40:29.195233Z"
        },
        "papermill": {
          "duration": 0.597369,
          "end_time": "2023-12-19T16:26:06.438443",
          "exception": false,
          "start_time": "2023-12-19T16:26:05.841074",
          "status": "completed"
        },
        "tags": [],
        "id": "sW12L65YnBd6"
      },
      "outputs": [],
      "source": [
        "train_X = np.array(train_X)/255.0\n",
        "train_X = train_X.reshape(-1,32,32,1)\n",
        "train_Y = np.array(train_Y)"
      ]
    },
    {
      "cell_type": "code",
      "execution_count": null,
      "metadata": {
        "execution": {
          "iopub.execute_input": "2023-12-19T16:26:06.501289Z",
          "iopub.status.busy": "2023-12-19T16:26:06.500292Z",
          "iopub.status.idle": "2023-12-19T16:26:06.561876Z",
          "shell.execute_reply": "2023-12-19T16:26:06.561336Z",
          "shell.execute_reply.started": "2023-12-14T05:40:29.765736Z"
        },
        "papermill": {
          "duration": 0.096344,
          "end_time": "2023-12-19T16:26:06.562045",
          "exception": false,
          "start_time": "2023-12-19T16:26:06.465701",
          "status": "completed"
        },
        "tags": [],
        "id": "dRlKgRuhnBd8"
      },
      "outputs": [],
      "source": [
        "val_X = np.array(val_X)/255.0\n",
        "val_X = val_X.reshape(-1,32,32,1)\n",
        "val_Y = np.array(val_Y)"
      ]
    },
    {
      "cell_type": "code",
      "execution_count": null,
      "metadata": {
        "execution": {
          "iopub.execute_input": "2023-12-19T16:26:06.620445Z",
          "iopub.status.busy": "2023-12-19T16:26:06.619716Z",
          "iopub.status.idle": "2023-12-19T16:26:06.623205Z",
          "shell.execute_reply": "2023-12-19T16:26:06.622567Z",
          "shell.execute_reply.started": "2023-12-14T05:40:29.833019Z"
        },
        "papermill": {
          "duration": 0.034242,
          "end_time": "2023-12-19T16:26:06.623314",
          "exception": false,
          "start_time": "2023-12-19T16:26:06.589072",
          "status": "completed"
        },
        "tags": [],
        "id": "-CojivQtnBd9",
        "outputId": "993961c6-b203-48ac-91af-bc256f98ab05"
      },
      "outputs": [
        {
          "name": "stdout",
          "output_type": "stream",
          "text": [
            "(140000, 32, 32, 1) (15209, 32, 32, 1)\n"
          ]
        }
      ],
      "source": [
        "print(train_X.shape,val_X.shape)"
      ]
    },
    {
      "cell_type": "code",
      "execution_count": null,
      "metadata": {
        "execution": {
          "iopub.execute_input": "2023-12-19T16:26:06.682081Z",
          "iopub.status.busy": "2023-12-19T16:26:06.681111Z",
          "iopub.status.idle": "2023-12-19T16:26:06.684739Z",
          "shell.execute_reply": "2023-12-19T16:26:06.684134Z",
          "shell.execute_reply.started": "2023-12-14T05:40:29.839237Z"
        },
        "papermill": {
          "duration": 0.034468,
          "end_time": "2023-12-19T16:26:06.684838",
          "exception": false,
          "start_time": "2023-12-19T16:26:06.650370",
          "status": "completed"
        },
        "tags": [],
        "id": "vWTGCAh-nBd-",
        "outputId": "7d086785-0cc8-4fc4-d930-718f7dc9f7ee"
      },
      "outputs": [
        {
          "name": "stdout",
          "output_type": "stream",
          "text": [
            "(140000, 35) (15209, 35)\n"
          ]
        }
      ],
      "source": [
        "print(train_Y.shape,val_Y.shape)"
      ]
    },
    {
      "cell_type": "code",
      "source": [
        "print(\"train data longest word :\")\n",
        "length_of_longest_word_in_train = len(max(train_data_idt, key=len))\n",
        "print(length_of_longest_word_in_train)\n",
        "word_with_longest_characters = max(train_data_idt, key=len)\n",
        "print(word_with_longest_characters)\n",
        "print()\n",
        "print(\"test data longest word :\")\n",
        "length_of_longest_word_in_test = len(max(test_data_idt, key=len))\n",
        "print(length_of_longest_word_in_test)\n",
        "word_with_longest_characters = max(test_data_idt, key=len)\n",
        "print(word_with_longest_characters)"
      ],
      "metadata": {
        "id": "5uDXAZXfO5bt"
      },
      "execution_count": null,
      "outputs": []
    },
    {
      "cell_type": "code",
      "execution_count": null,
      "metadata": {
        "execution": {
          "iopub.execute_input": "2023-12-19T16:26:06.750031Z",
          "iopub.status.busy": "2023-12-19T16:26:06.749360Z",
          "iopub.status.idle": "2023-12-19T16:26:09.213877Z",
          "shell.execute_reply": "2023-12-19T16:26:09.213306Z",
          "shell.execute_reply.started": "2023-12-14T05:40:29.850547Z"
        },
        "papermill": {
          "duration": 2.501842,
          "end_time": "2023-12-19T16:26:09.214033",
          "exception": false,
          "start_time": "2023-12-19T16:26:06.712191",
          "status": "completed"
        },
        "tags": [],
        "id": "XVH1uSp8nBd_"
      },
      "outputs": [],
      "source": [
        "model = Sequential()\n",
        "\n",
        "model.add(Conv2D(32, (3, 3), padding = \"same\", activation='relu', input_shape=(32,32,1)))\n",
        "model.add(MaxPooling2D(pool_size=(2,2)))\n",
        "model.add(Conv2D(64, (3, 3), activation='relu'))\n",
        "model.add(MaxPooling2D(pool_size=(2,2)))\n",
        "model.add(Dense(128, activation='relu'))\n",
        "model.add(Dropout(0.1))\n",
        "model.add(Conv2D(128, (3, 3), activation='relu'))\n",
        "model.add(MaxPooling2D(pool_size=(2,2)))\n",
        "model.add(Dropout(0.25))\n",
        "model.add(Flatten())\n",
        "model.add(Dense(128, activation='relu'))\n",
        "model.add(Dropout(0.2))\n",
        "model.add(Dense(35, activation='softmax'))"
      ]
    },
    {
      "cell_type": "code",
      "execution_count": null,
      "metadata": {
        "execution": {
          "iopub.execute_input": "2023-12-19T16:26:09.276474Z",
          "iopub.status.busy": "2023-12-19T16:26:09.275327Z",
          "iopub.status.idle": "2023-12-19T16:26:09.280739Z",
          "shell.execute_reply": "2023-12-19T16:26:09.281592Z",
          "shell.execute_reply.started": "2023-12-14T05:40:32.216660Z"
        },
        "papermill": {
          "duration": 0.039877,
          "end_time": "2023-12-19T16:26:09.281805",
          "exception": false,
          "start_time": "2023-12-19T16:26:09.241928",
          "status": "completed"
        },
        "tags": [],
        "id": "5pM8vMqUnBeA",
        "outputId": "0fe6c2f2-7af3-41a1-b709-6d0b1a801f0f"
      },
      "outputs": [
        {
          "name": "stdout",
          "output_type": "stream",
          "text": [
            "Model: \"sequential\"\n",
            "_________________________________________________________________\n",
            "Layer (type)                 Output Shape              Param #   \n",
            "=================================================================\n",
            "conv2d (Conv2D)              (None, 32, 32, 32)        320       \n",
            "_________________________________________________________________\n",
            "max_pooling2d (MaxPooling2D) (None, 16, 16, 32)        0         \n",
            "_________________________________________________________________\n",
            "conv2d_1 (Conv2D)            (None, 14, 14, 64)        18496     \n",
            "_________________________________________________________________\n",
            "max_pooling2d_1 (MaxPooling2 (None, 7, 7, 64)          0         \n",
            "_________________________________________________________________\n",
            "dense (Dense)                (None, 7, 7, 128)         8320      \n",
            "_________________________________________________________________\n",
            "dropout (Dropout)            (None, 7, 7, 128)         0         \n",
            "_________________________________________________________________\n",
            "conv2d_2 (Conv2D)            (None, 5, 5, 128)         147584    \n",
            "_________________________________________________________________\n",
            "max_pooling2d_2 (MaxPooling2 (None, 2, 2, 128)         0         \n",
            "_________________________________________________________________\n",
            "dropout_1 (Dropout)          (None, 2, 2, 128)         0         \n",
            "_________________________________________________________________\n",
            "flatten (Flatten)            (None, 512)               0         \n",
            "_________________________________________________________________\n",
            "dense_1 (Dense)              (None, 128)               65664     \n",
            "_________________________________________________________________\n",
            "dropout_2 (Dropout)          (None, 128)               0         \n",
            "_________________________________________________________________\n",
            "dense_2 (Dense)              (None, 35)                4515      \n",
            "=================================================================\n",
            "Total params: 244,899\n",
            "Trainable params: 244,899\n",
            "Non-trainable params: 0\n",
            "_________________________________________________________________\n"
          ]
        }
      ],
      "source": [
        "model.summary()"
      ]
    },
    {
      "cell_type": "code",
      "execution_count": null,
      "metadata": {
        "execution": {
          "iopub.execute_input": "2023-12-19T16:26:09.364710Z",
          "iopub.status.busy": "2023-12-19T16:26:09.363871Z",
          "iopub.status.idle": "2023-12-19T16:26:09.371313Z",
          "shell.execute_reply": "2023-12-19T16:26:09.371908Z",
          "shell.execute_reply.started": "2023-12-14T05:40:32.225412Z"
        },
        "papermill": {
          "duration": 0.056224,
          "end_time": "2023-12-19T16:26:09.372066",
          "exception": false,
          "start_time": "2023-12-19T16:26:09.315842",
          "status": "completed"
        },
        "tags": [],
        "id": "VcrYVE16nBeA"
      },
      "outputs": [],
      "source": [
        "model.compile(loss='categorical_crossentropy', optimizer=\"adam\",metrics=['accuracy'])"
      ]
    },
    {
      "cell_type": "code",
      "execution_count": null,
      "metadata": {
        "execution": {
          "iopub.execute_input": "2023-12-19T16:26:09.439169Z",
          "iopub.status.busy": "2023-12-19T16:26:09.438528Z",
          "iopub.status.idle": "2023-12-19T16:37:49.034060Z",
          "shell.execute_reply": "2023-12-19T16:37:49.033380Z",
          "shell.execute_reply.started": "2023-12-14T05:40:32.244788Z"
        },
        "papermill": {
          "duration": 699.629152,
          "end_time": "2023-12-19T16:37:49.034189",
          "exception": false,
          "start_time": "2023-12-19T16:26:09.405037",
          "status": "completed"
        },
        "tags": [],
        "id": "dGQfK8AnnBeB",
        "outputId": "a02dc160-1623-462a-aa87-cfc63ef78b4c"
      },
      "outputs": [
        {
          "name": "stdout",
          "output_type": "stream",
          "text": [
            "Epoch 1/50\n",
            "4375/4375 [==============================] - 14s 3ms/step - loss: 0.6198 - accuracy: 0.8015 - val_loss: 0.3040 - val_accuracy: 0.9093\n",
            "Epoch 2/50\n",
            "4375/4375 [==============================] - 14s 3ms/step - loss: 0.3521 - accuracy: 0.8814 - val_loss: 0.3013 - val_accuracy: 0.8908\n",
            "Epoch 3/50\n",
            "4375/4375 [==============================] - 14s 3ms/step - loss: 0.3108 - accuracy: 0.8934 - val_loss: 0.2678 - val_accuracy: 0.9043\n",
            "Epoch 4/50\n",
            "4375/4375 [==============================] - 14s 3ms/step - loss: 0.2877 - accuracy: 0.9014 - val_loss: 0.2400 - val_accuracy: 0.9168\n",
            "Epoch 5/50\n",
            "4375/4375 [==============================] - 14s 3ms/step - loss: 0.2717 - accuracy: 0.9057 - val_loss: 0.2628 - val_accuracy: 0.9047\n",
            "Epoch 6/50\n",
            "4375/4375 [==============================] - 14s 3ms/step - loss: 0.2612 - accuracy: 0.9085 - val_loss: 0.2299 - val_accuracy: 0.9233\n",
            "Epoch 7/50\n",
            "4375/4375 [==============================] - 14s 3ms/step - loss: 0.2516 - accuracy: 0.9122 - val_loss: 0.2190 - val_accuracy: 0.9225\n",
            "Epoch 8/50\n",
            "4375/4375 [==============================] - 14s 3ms/step - loss: 0.2429 - accuracy: 0.9144 - val_loss: 0.2255 - val_accuracy: 0.9230\n",
            "Epoch 9/50\n",
            "4375/4375 [==============================] - 14s 3ms/step - loss: 0.2375 - accuracy: 0.9160 - val_loss: 0.2500 - val_accuracy: 0.9069\n",
            "Epoch 10/50\n",
            "4375/4375 [==============================] - 14s 3ms/step - loss: 0.2305 - accuracy: 0.9186 - val_loss: 0.2507 - val_accuracy: 0.9043\n",
            "Epoch 11/50\n",
            "4375/4375 [==============================] - 14s 3ms/step - loss: 0.2290 - accuracy: 0.9192 - val_loss: 0.2331 - val_accuracy: 0.9197\n",
            "Epoch 12/50\n",
            "4375/4375 [==============================] - 14s 3ms/step - loss: 0.2247 - accuracy: 0.9199 - val_loss: 0.2289 - val_accuracy: 0.9239\n",
            "Epoch 13/50\n",
            "4375/4375 [==============================] - 14s 3ms/step - loss: 0.2238 - accuracy: 0.9202 - val_loss: 0.2428 - val_accuracy: 0.9164\n",
            "Epoch 14/50\n",
            "4375/4375 [==============================] - 14s 3ms/step - loss: 0.2182 - accuracy: 0.9218 - val_loss: 0.2383 - val_accuracy: 0.9131\n",
            "Epoch 15/50\n",
            "4375/4375 [==============================] - 14s 3ms/step - loss: 0.2170 - accuracy: 0.9220 - val_loss: 0.2126 - val_accuracy: 0.9306\n",
            "Epoch 16/50\n",
            "4375/4375 [==============================] - 14s 3ms/step - loss: 0.2126 - accuracy: 0.9237 - val_loss: 0.2354 - val_accuracy: 0.9161\n",
            "Epoch 17/50\n",
            "4375/4375 [==============================] - 14s 3ms/step - loss: 0.2113 - accuracy: 0.9242 - val_loss: 0.2333 - val_accuracy: 0.9231\n",
            "Epoch 18/50\n",
            "4375/4375 [==============================] - 14s 3ms/step - loss: 0.2080 - accuracy: 0.9246 - val_loss: 0.2264 - val_accuracy: 0.9209\n",
            "Epoch 19/50\n",
            "4375/4375 [==============================] - 14s 3ms/step - loss: 0.2100 - accuracy: 0.9246 - val_loss: 0.2484 - val_accuracy: 0.9135\n",
            "Epoch 20/50\n",
            "4375/4375 [==============================] - 14s 3ms/step - loss: 0.2089 - accuracy: 0.9244 - val_loss: 0.2365 - val_accuracy: 0.9199\n",
            "Epoch 21/50\n",
            "4375/4375 [==============================] - 14s 3ms/step - loss: 0.2047 - accuracy: 0.9254 - val_loss: 0.2561 - val_accuracy: 0.9082\n",
            "Epoch 22/50\n",
            "4375/4375 [==============================] - 14s 3ms/step - loss: 0.2050 - accuracy: 0.9253 - val_loss: 0.2624 - val_accuracy: 0.9124\n",
            "Epoch 23/50\n",
            "4375/4375 [==============================] - 14s 3ms/step - loss: 0.2033 - accuracy: 0.9266 - val_loss: 0.2448 - val_accuracy: 0.9177\n",
            "Epoch 24/50\n",
            "4375/4375 [==============================] - 14s 3ms/step - loss: 0.2003 - accuracy: 0.9266 - val_loss: 0.2302 - val_accuracy: 0.9265\n",
            "Epoch 25/50\n",
            "4375/4375 [==============================] - 14s 3ms/step - loss: 0.2024 - accuracy: 0.9264 - val_loss: 0.2371 - val_accuracy: 0.9183\n",
            "Epoch 26/50\n",
            "4375/4375 [==============================] - 14s 3ms/step - loss: 0.2003 - accuracy: 0.9274 - val_loss: 0.2388 - val_accuracy: 0.9232\n",
            "Epoch 27/50\n",
            "4375/4375 [==============================] - 14s 3ms/step - loss: 0.2008 - accuracy: 0.9269 - val_loss: 0.2354 - val_accuracy: 0.9223\n",
            "Epoch 28/50\n",
            "4375/4375 [==============================] - 14s 3ms/step - loss: 0.2002 - accuracy: 0.9271 - val_loss: 0.2490 - val_accuracy: 0.9185\n",
            "Epoch 29/50\n",
            "4375/4375 [==============================] - 14s 3ms/step - loss: 0.1986 - accuracy: 0.9279 - val_loss: 0.2295 - val_accuracy: 0.9265\n",
            "Epoch 30/50\n",
            "4375/4375 [==============================] - 14s 3ms/step - loss: 0.1977 - accuracy: 0.9283 - val_loss: 0.2462 - val_accuracy: 0.9216\n",
            "Epoch 31/50\n",
            "4375/4375 [==============================] - 14s 3ms/step - loss: 0.1961 - accuracy: 0.9284 - val_loss: 0.2473 - val_accuracy: 0.9170\n",
            "Epoch 32/50\n",
            "4375/4375 [==============================] - 14s 3ms/step - loss: 0.1973 - accuracy: 0.9282 - val_loss: 0.2537 - val_accuracy: 0.9150\n",
            "Epoch 33/50\n",
            "4375/4375 [==============================] - 14s 3ms/step - loss: 0.1975 - accuracy: 0.9279 - val_loss: 0.2578 - val_accuracy: 0.9111\n",
            "Epoch 34/50\n",
            "4375/4375 [==============================] - 14s 3ms/step - loss: 0.1954 - accuracy: 0.9292 - val_loss: 0.2422 - val_accuracy: 0.9234\n",
            "Epoch 35/50\n",
            "4375/4375 [==============================] - 14s 3ms/step - loss: 0.1966 - accuracy: 0.9286 - val_loss: 0.2663 - val_accuracy: 0.9076\n",
            "Epoch 36/50\n",
            "4375/4375 [==============================] - 14s 3ms/step - loss: 0.1932 - accuracy: 0.9299 - val_loss: 0.2626 - val_accuracy: 0.9127\n",
            "Epoch 37/50\n",
            "4375/4375 [==============================] - 14s 3ms/step - loss: 0.1931 - accuracy: 0.9291 - val_loss: 0.2628 - val_accuracy: 0.9164\n",
            "Epoch 38/50\n",
            "4375/4375 [==============================] - 14s 3ms/step - loss: 0.1912 - accuracy: 0.9295 - val_loss: 0.2559 - val_accuracy: 0.9209\n",
            "Epoch 39/50\n",
            "4375/4375 [==============================] - 14s 3ms/step - loss: 0.1950 - accuracy: 0.9283 - val_loss: 0.2301 - val_accuracy: 0.9243\n",
            "Epoch 40/50\n",
            "4375/4375 [==============================] - 14s 3ms/step - loss: 0.1913 - accuracy: 0.9298 - val_loss: 0.2386 - val_accuracy: 0.9222\n",
            "Epoch 41/50\n",
            "4375/4375 [==============================] - 14s 3ms/step - loss: 0.1914 - accuracy: 0.9303 - val_loss: 0.2356 - val_accuracy: 0.9250\n",
            "Epoch 42/50\n",
            "4375/4375 [==============================] - 14s 3ms/step - loss: 0.1887 - accuracy: 0.9314 - val_loss: 0.2317 - val_accuracy: 0.9264\n",
            "Epoch 43/50\n",
            "4375/4375 [==============================] - 14s 3ms/step - loss: 0.1956 - accuracy: 0.9294 - val_loss: 0.2418 - val_accuracy: 0.9200\n",
            "Epoch 44/50\n",
            "4375/4375 [==============================] - 14s 3ms/step - loss: 0.1900 - accuracy: 0.9307 - val_loss: 0.2411 - val_accuracy: 0.9220\n",
            "Epoch 45/50\n",
            "4375/4375 [==============================] - 14s 3ms/step - loss: 0.1931 - accuracy: 0.9297 - val_loss: 0.2356 - val_accuracy: 0.9243\n",
            "Epoch 46/50\n",
            "4375/4375 [==============================] - 14s 3ms/step - loss: 0.1875 - accuracy: 0.9319 - val_loss: 0.2717 - val_accuracy: 0.9116\n",
            "Epoch 47/50\n",
            "4375/4375 [==============================] - 14s 3ms/step - loss: 0.1899 - accuracy: 0.9305 - val_loss: 0.2534 - val_accuracy: 0.9233\n",
            "Epoch 48/50\n",
            "4375/4375 [==============================] - 14s 3ms/step - loss: 0.1911 - accuracy: 0.9301 - val_loss: 0.2565 - val_accuracy: 0.9156\n",
            "Epoch 49/50\n",
            "4375/4375 [==============================] - 14s 3ms/step - loss: 0.1862 - accuracy: 0.9315 - val_loss: 0.2497 - val_accuracy: 0.9172\n",
            "Epoch 50/50\n",
            "4375/4375 [==============================] - 14s 3ms/step - loss: 0.1899 - accuracy: 0.9311 - val_loss: 0.2715 - val_accuracy: 0.9227\n"
          ]
        }
      ],
      "source": [
        "history = model.fit(train_X,train_Y, epochs=50, batch_size=32, validation_data = (val_X, val_Y),  verbose=1)"
      ]
    },
    {
      "cell_type": "code",
      "execution_count": null,
      "metadata": {
        "execution": {
          "iopub.execute_input": "2023-12-19T16:37:57.617276Z",
          "iopub.status.busy": "2023-12-19T16:37:57.616555Z",
          "iopub.status.idle": "2023-12-19T16:37:57.814709Z",
          "shell.execute_reply": "2023-12-19T16:37:57.814099Z",
          "shell.execute_reply.started": "2023-12-14T05:52:17.368573Z"
        },
        "papermill": {
          "duration": 4.503608,
          "end_time": "2023-12-19T16:37:57.814818",
          "exception": false,
          "start_time": "2023-12-19T16:37:53.311210",
          "status": "completed"
        },
        "tags": [],
        "id": "RjI7cILSnBeC",
        "outputId": "13066cff-ce68-45a1-f4f7-4ccb446d10c3"
      },
      "outputs": [
        {
          "data": {
            "image/png": "[encoded data removed]",
            "text/plain": [
              "<Figure size 432x288 with 1 Axes>"
            ]
          },
          "metadata": {
            "needs_background": "light"
          },
          "output_type": "display_data"
        }
      ],
      "source": [
        "plt.plot(history.history['accuracy'])\n",
        "plt.plot(history.history['val_accuracy'])\n",
        "plt.title('Training Accuracy vs Validation Accuracy')\n",
        "plt.ylabel('Accuracy')\n",
        "plt.xlabel('Epoch')\n",
        "plt.legend(['Train', 'Validation'], loc='upper left')\n",
        "plt.show()"
      ]
    },
    {
      "cell_type": "code",
      "execution_count": null,
      "metadata": {
        "execution": {
          "iopub.execute_input": "2023-12-19T16:38:06.507003Z",
          "iopub.status.busy": "2023-12-19T16:38:06.504195Z",
          "iopub.status.idle": "2023-12-19T16:38:06.647362Z",
          "shell.execute_reply": "2023-12-19T16:38:06.646706Z",
          "shell.execute_reply.started": "2023-12-14T05:52:17.580847Z"
        },
        "papermill": {
          "duration": 4.444739,
          "end_time": "2023-12-19T16:38:06.647474",
          "exception": false,
          "start_time": "2023-12-19T16:38:02.202735",
          "status": "completed"
        },
        "tags": [],
        "id": "tfpR_UFsnBeD",
        "outputId": "223e78a6-a895-4038-ad19-74e4fa9ba862"
      },
      "outputs": [
        {
          "data": {
            "image/png": "[encoded data removed]",
            "text/plain": [
              "<Figure size 432x288 with 1 Axes>"
            ]
          },
          "metadata": {
            "needs_background": "light"
          },
          "output_type": "display_data"
        }
      ],
      "source": [
        "plt.plot(history.history['loss'])\n",
        "plt.plot(history.history['val_loss'])\n",
        "plt.title('Training Loss vs Validation Loss')\n",
        "plt.ylabel('Loss')\n",
        "plt.xlabel('Epoch')\n",
        "plt.legend(['Train', 'Validation'], loc='upper left')\n",
        "plt.show()"
      ]
    },
    {
      "cell_type": "code",
      "execution_count": null,
      "metadata": {
        "execution": {
          "iopub.execute_input": "2023-12-19T16:38:15.280766Z",
          "iopub.status.busy": "2023-12-19T16:38:15.279808Z",
          "iopub.status.idle": "2023-12-19T16:38:15.282793Z",
          "shell.execute_reply": "2023-12-19T16:38:15.282289Z",
          "shell.execute_reply.started": "2023-12-14T05:52:17.745708Z"
        },
        "papermill": {
          "duration": 4.362907,
          "end_time": "2023-12-19T16:38:15.282924",
          "exception": false,
          "start_time": "2023-12-19T16:38:10.920017",
          "status": "completed"
        },
        "tags": [],
        "id": "kjUFFlh4nBeE"
      },
      "outputs": [],
      "source": [
        "def sort_contours(cnts, method=\"left-to-right\"):\n",
        "    reverse = False\n",
        "    i = 0\n",
        "    if method == \"right-to-left\" or method == \"bottom-to-top\":\n",
        "        reverse = True\n",
        "    if method == \"top-to-bottom\" or method == \"bottom-to-top\":\n",
        "        i = 1\n",
        "    boundingBoxes = [cv2.boundingRect(c) for c in cnts]\n",
        "    (cnts, boundingBoxes) = zip(*sorted(zip(cnts, boundingBoxes),\n",
        "    key=lambda b:b[1][i], reverse=reverse))\n",
        "    # return the list of sorted contours and bounding boxes\n",
        "    return (cnts, boundingBoxes)"
      ]
    },
    {
      "cell_type": "code",
      "execution_count": null,
      "metadata": {
        "execution": {
          "iopub.execute_input": "2023-12-19T16:38:23.883639Z",
          "iopub.status.busy": "2023-12-19T16:38:23.882582Z",
          "iopub.status.idle": "2023-12-19T16:38:23.885322Z",
          "shell.execute_reply": "2023-12-19T16:38:23.885834Z",
          "shell.execute_reply.started": "2023-12-14T05:52:17.755041Z"
        },
        "papermill": {
          "duration": 4.334715,
          "end_time": "2023-12-19T16:38:23.886043",
          "exception": false,
          "start_time": "2023-12-19T16:38:19.551328",
          "status": "completed"
        },
        "tags": [],
        "id": "bxsvX-M7nBeE"
      },
      "outputs": [],
      "source": [
        "def get_letters(img):\n",
        "    letters = []\n",
        "    image = cv2.imread(img)\n",
        "    gray = cv2.cvtColor(image, cv2.COLOR_BGR2GRAY)\n",
        "    ret,thresh1 = cv2.threshold(gray ,127,255,cv2.THRESH_BINARY_INV)\n",
        "    dilated = cv2.dilate(thresh1, None, iterations=2)\n",
        "\n",
        "    cnts = cv2.findContours(dilated.copy(), cv2.RETR_EXTERNAL,cv2.CHAIN_APPROX_SIMPLE)\n",
        "    cnts = imutils.grab_contours(cnts)\n",
        "    cnts = sort_contours(cnts, method=\"left-to-right\")[0]\n",
        "    # loop over the contours\n",
        "    for c in cnts:\n",
        "        if cv2.contourArea(c) > 10:\n",
        "            (x, y, w, h) = cv2.boundingRect(c)\n",
        "            cv2.rectangle(image, (x, y), (x + w, y + h), (0, 255, 0), 2)\n",
        "        roi = gray[y:y + h, x:x + w]\n",
        "        thresh = cv2.threshold(roi, 0, 255,cv2.THRESH_BINARY_INV | cv2.THRESH_OTSU)[1]\n",
        "        thresh = cv2.resize(thresh, (32, 32), interpolation = cv2.INTER_CUBIC)\n",
        "        thresh = thresh.astype(\"float32\") / 255.0\n",
        "        thresh = np.expand_dims(thresh, axis=-1)\n",
        "        thresh = thresh.reshape(1,32,32,1)\n",
        "        ypred = model.predict(thresh)\n",
        "        ypred = LB.inverse_transform(ypred)\n",
        "        [x] = ypred\n",
        "        letters.append(x)\n",
        "    return letters, image\n",
        "\n",
        "#plt.imshow(image)"
      ]
    },
    {
      "cell_type": "code",
      "execution_count": null,
      "metadata": {
        "execution": {
          "iopub.execute_input": "2023-12-19T16:38:32.559322Z",
          "iopub.status.busy": "2023-12-19T16:38:32.558648Z",
          "iopub.status.idle": "2023-12-19T16:38:32.561595Z",
          "shell.execute_reply": "2023-12-19T16:38:32.561086Z",
          "shell.execute_reply.started": "2023-12-14T05:52:17.771095Z"
        },
        "papermill": {
          "duration": 4.373924,
          "end_time": "2023-12-19T16:38:32.561702",
          "exception": false,
          "start_time": "2023-12-19T16:38:28.187778",
          "status": "completed"
        },
        "tags": [],
        "id": "YJXb1jWZnBeF"
      },
      "outputs": [],
      "source": [
        "def get_word(letter):\n",
        "    word = \"\".join(letter)\n",
        "    return word"
      ]
    },
    {
      "cell_type": "code",
      "execution_count": null,
      "metadata": {
        "execution": {
          "iopub.execute_input": "2023-12-19T16:38:41.088137Z",
          "iopub.status.busy": "2023-12-19T16:38:41.087468Z",
          "iopub.status.idle": "2023-12-19T16:38:41.601621Z",
          "shell.execute_reply": "2023-12-19T16:38:41.600998Z",
          "shell.execute_reply.started": "2023-12-14T05:52:17.785554Z"
        },
        "papermill": {
          "duration": 4.790785,
          "end_time": "2023-12-19T16:38:41.601734",
          "exception": false,
          "start_time": "2023-12-19T16:38:36.810949",
          "status": "completed"
        },
        "tags": [],
        "id": "gPlU8KYEnBeF",
        "outputId": "e1f6b0b8-672f-42b6-cc35-2cdcd8ac46c0"
      },
      "outputs": [
        {
          "name": "stdout",
          "output_type": "stream",
          "text": [
            "B3NE5\n"
          ]
        },
        {
          "data": {
            "text/plain": [
              "<matplotlib.image.AxesImage at 0x7c3b400bf190>"
            ]
          },
          "execution_count": 24,
          "metadata": {},
          "output_type": "execute_result"
        },
        {
          "data": {
            "image/png": "[encoded data removed]",
            "text/plain": [
              "<Figure size 432x288 with 1 Axes>"
            ]
          },
          "metadata": {
            "needs_background": "light"
          },
          "output_type": "display_data"
        }
      ],
      "source": [
        "letter,image = get_letters(\"../input/handwriting-recognition/train_v2/train/TRAIN_00003.jpg\")\n",
        "word = get_word(letter)\n",
        "print(word)\n",
        "plt.imshow(image)"
      ]
    },
    {
      "cell_type": "code",
      "execution_count": null,
      "metadata": {
        "execution": {
          "iopub.execute_input": "2023-12-19T16:38:50.320738Z",
          "iopub.status.busy": "2023-12-19T16:38:50.320150Z",
          "iopub.status.idle": "2023-12-19T16:38:50.624814Z",
          "shell.execute_reply": "2023-12-19T16:38:50.624209Z",
          "shell.execute_reply.started": "2023-12-14T05:52:18.328281Z"
        },
        "papermill": {
          "duration": 4.660204,
          "end_time": "2023-12-19T16:38:50.624952",
          "exception": false,
          "start_time": "2023-12-19T16:38:45.964748",
          "status": "completed"
        },
        "tags": [],
        "id": "TwnT_uw5nBeG",
        "outputId": "2be93f6b-98a3-4fbe-eace-ba23acbe9f74"
      },
      "outputs": [
        {
          "name": "stdout",
          "output_type": "stream",
          "text": [
            "LIL0U\n"
          ]
        },
        {
          "data": {
            "text/plain": [
              "<matplotlib.image.AxesImage at 0x7c3ae4295590>"
            ]
          },
          "execution_count": 25,
          "metadata": {},
          "output_type": "execute_result"
        },
        {
          "data": {
            "image/png": "[encoded data removed]",
            "text/plain": [
              "<Figure size 432x288 with 1 Axes>"
            ]
          },
          "metadata": {
            "needs_background": "light"
          },
          "output_type": "display_data"
        }
      ],
      "source": [
        "letter,image = get_letters(\"../input/handwriting-recognition/train_v2/train/TRAIN_00023.jpg\")\n",
        "word = get_word(letter)\n",
        "print(word)\n",
        "plt.imshow(image)"
      ]
    },
    {
      "cell_type": "code",
      "execution_count": null,
      "metadata": {
        "execution": {
          "iopub.execute_input": "2023-12-19T16:38:59.270022Z",
          "iopub.status.busy": "2023-12-19T16:38:59.269404Z",
          "iopub.status.idle": "2023-12-19T16:38:59.630014Z",
          "shell.execute_reply": "2023-12-19T16:38:59.629361Z",
          "shell.execute_reply.started": "2023-12-14T05:52:18.696346Z"
        },
        "papermill": {
          "duration": 4.651145,
          "end_time": "2023-12-19T16:38:59.630134",
          "exception": false,
          "start_time": "2023-12-19T16:38:54.978989",
          "status": "completed"
        },
        "tags": [],
        "id": "elBgi3Z7nBeH",
        "outputId": "6d04cd04-80e7-493d-fd7e-2733b70298fd"
      },
      "outputs": [
        {
          "name": "stdout",
          "output_type": "stream",
          "text": [
            "7AFFFLX\n"
          ]
        },
        {
          "data": {
            "text/plain": [
              "<matplotlib.image.AxesImage at 0x7c3ae41c40d0>"
            ]
          },
          "execution_count": 26,
          "metadata": {},
          "output_type": "execute_result"
        },
        {
          "data": {
            "image/png": "[encoded data removed]",
            "text/plain": [
              "<Figure size 432x288 with 1 Axes>"
            ]
          },
          "metadata": {
            "needs_background": "light"
          },
          "output_type": "display_data"
        }
      ],
      "source": [
        "letter,image = get_letters(\"../input/handwriting-recognition/train_v2/train/TRAIN_00030.jpg\")\n",
        "word = get_word(letter)\n",
        "print(word)\n",
        "plt.imshow(image)"
      ]
    },
    {
      "cell_type": "code",
      "execution_count": null,
      "metadata": {
        "execution": {
          "iopub.execute_input": "2023-12-19T16:39:08.288496Z",
          "iopub.status.busy": "2023-12-19T16:39:08.287870Z",
          "iopub.status.idle": "2023-12-19T16:39:08.557442Z",
          "shell.execute_reply": "2023-12-19T16:39:08.557940Z",
          "shell.execute_reply.started": "2023-12-14T05:52:19.090722Z"
        },
        "papermill": {
          "duration": 4.549119,
          "end_time": "2023-12-19T16:39:08.558094",
          "exception": false,
          "start_time": "2023-12-19T16:39:04.008975",
          "status": "completed"
        },
        "tags": [],
        "id": "WwgWM5gSnBeH",
        "outputId": "9ae3be7b-a7a4-48e4-87a3-facd155c0927"
      },
      "outputs": [
        {
          "name": "stdout",
          "output_type": "stream",
          "text": [
            "RUPP\n"
          ]
        },
        {
          "data": {
            "text/plain": [
              "<matplotlib.image.AxesImage at 0x7c3b4009af50>"
            ]
          },
          "execution_count": 27,
          "metadata": {},
          "output_type": "execute_result"
        },
        {
          "data": {
            "image/png": "[encoded data removed]",
            "text/plain": [
              "<Figure size 432x288 with 1 Axes>"
            ]
          },
          "metadata": {
            "needs_background": "light"
          },
          "output_type": "display_data"
        }
      ],
      "source": [
        "letter,image = get_letters(\"../input/handwriting-recognition/validation_v2/validation/VALIDATION_0005.jpg\")\n",
        "word = get_word(letter)\n",
        "print(word)\n",
        "plt.imshow(image)"
      ]
    },
    {
      "cell_type": "code",
      "execution_count": null,
      "metadata": {
        "execution": {
          "iopub.execute_input": "2023-12-19T16:39:17.217752Z",
          "iopub.status.busy": "2023-12-19T16:39:17.217168Z",
          "iopub.status.idle": "2023-12-19T16:39:17.672402Z",
          "shell.execute_reply": "2023-12-19T16:39:17.671795Z",
          "shell.execute_reply.started": "2023-12-14T05:52:19.371816Z"
        },
        "papermill": {
          "duration": 4.805121,
          "end_time": "2023-12-19T16:39:17.672512",
          "exception": false,
          "start_time": "2023-12-19T16:39:12.867391",
          "status": "completed"
        },
        "tags": [],
        "id": "Dit-z8NDnBeI",
        "outputId": "cf95ac7a-bdaf-4d9a-e207-10fc12a63654"
      },
      "outputs": [
        {
          "name": "stdout",
          "output_type": "stream",
          "text": [
            "VALENTJNC\n"
          ]
        },
        {
          "data": {
            "text/plain": [
              "<matplotlib.image.AxesImage at 0x7c3ae425b910>"
            ]
          },
          "execution_count": 28,
          "metadata": {},
          "output_type": "execute_result"
        },
        {
          "data": {
            "image/png": "[encoded data removed]",
            "text/plain": [
              "<Figure size 432x288 with 1 Axes>"
            ]
          },
          "metadata": {
            "needs_background": "light"
          },
          "output_type": "display_data"
        }
      ],
      "source": [
        "letter,image = get_letters(\"../input/handwriting-recognition/test_v2/test/TEST_0007.jpg\")\n",
        "word = get_word(letter)\n",
        "print(word)\n",
        "plt.imshow(image)"
      ]
    }
  ],
  "metadata": {
    "kaggle": {
      "accelerator": "gpu",
      "dataSources": [
        {
          "datasetId": 53376,
          "sourceId": 101598,
          "sourceType": "datasetVersion"
        },
        {
          "datasetId": 818027,
          "sourceId": 1400106,
          "sourceType": "datasetVersion"
        }
      ],
      "dockerImageVersionId": 30043,
      "isGpuEnabled": true,
      "isInternetEnabled": true,
      "language": "python",
      "sourceType": "notebook"
    },
    "kernelspec": {
      "display_name": "Python 3",
      "language": "python",
      "name": "python3"
    },
    "language_info": {
      "codemirror_mode": {
        "name": "ipython",
        "version": 3
      },
      "file_extension": ".py",
      "mimetype": "text/x-python",
      "name": "python",
      "nbconvert_exporter": "python",
      "pygments_lexer": "ipython3",
      "version": "3.7.6"
    },
    "papermill": {
      "duration": 2068.394697,
      "end_time": "2023-12-19T16:39:22.259030",
      "environment_variables": {},
      "exception": null,
      "input_path": "__notebook__.ipynb",
      "output_path": "__notebook__.ipynb",
      "parameters": {},
      "start_time": "2023-12-19T16:04:53.864333",
      "version": "2.1.0"
    },
    "colab": {
      "provenance": []
    }
  },
  "nbformat": 4,
  "nbformat_minor": 0
}